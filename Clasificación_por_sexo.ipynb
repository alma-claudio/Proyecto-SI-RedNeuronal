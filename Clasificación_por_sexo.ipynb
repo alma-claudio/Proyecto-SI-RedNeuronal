{
  "nbformat": 4,
  "nbformat_minor": 0,
  "metadata": {
    "colab": {
      "name": "Clasificación por sexo",
      "provenance": []
    },
    "kernelspec": {
      "name": "python3",
      "display_name": "Python 3"
    }
  },
  "cells": [
    {
      "cell_type": "code",
      "metadata": {
        "id": "RLtpBZGzRkLe",
        "colab_type": "code",
        "colab": {}
      },
      "source": [
        "import random\n",
        "class Perceptron:\n",
        "    def __init__(self,input_number,step_size=0.08):\n",
        "        self._ins = input_number\n",
        "        self._w = [random.random() for _ in range(input_number)]\n",
        "        self._eta = step_size\n",
        "        \n",
        "    def predict(self,inputs):\n",
        "        weighted_average = sum(w*elm for w,elm in zip(self._w,inputs))\n",
        "        if weighted_average > 0:\n",
        "            return 1\n",
        "        return 0\n",
        "\n",
        "    def train(self,inputs,ex_output):\n",
        "        output = self.predict(inputs)\n",
        "        error = ex_output - output\n",
        "        if error != 0:\n",
        "            self._w = [w+self._eta*error*x for w,x in zip(self._w,inputs)]\n",
        "        return error\n",
        "      "
      ],
      "execution_count": 0,
      "outputs": []
    },
    {
      "cell_type": "code",
      "metadata": {
        "id": "9iMSwPKySGAD",
        "colab_type": "code",
        "outputId": "0e689a23-fdb6-483c-f505-99db03e6c2d3",
        "colab": {
          "base_uri": "https://localhost:8080/",
          "height": 335
        }
      },
      "source": [
        "#colores\n",
        "#1 azul\n",
        "#2 rosa\n",
        "#3 blanco\n",
        "\n",
        "## Datos de hombres y mujeres\n",
        "input_data = [[170,56,2,1], # Mujer de 1.70m, 56kg y color rosa\n",
        "              [172,63,1,0],# Hombre de 1.72m, 63kg y color azul\n",
        "              [160,50,3,1], # Mujer de 1.60m, 50kg y color blanco\n",
        "              [170,63,1,0], # Hombre de 1.70m, 63kg y color azul\n",
        "              [174,66,3,0],# Hombre de 1.74m, 66kg y color blanco\n",
        "              [158,55,3,1],# Mujer de 1.58m, 55kg y color blanco\n",
        "              [183,80,1,0],# Hombre de 1.83m, 80kg y color azul\n",
        "              [182,70,3,0],# Hombre de 1.82m, 70kg y color blanco\n",
        "              [168,77,1,0],# Hombre de 1.83m, 80kg y color azul\n",
        "              [56,69,2,0],# Mujer de 1.82m, 70kg y color rosa\n",
        "              [165,54,3,1]]# Mujer de 1.65m, 54kg y color blanco\n",
        "\n",
        "## Creamos el perceptron\n",
        "pr = Perceptron(4,0.08) # Perceptron con 3 entradas\n",
        "weights = [] # Lista con los pesos\n",
        "errors = []  # Lista con los errores\n",
        "\n",
        "## Fase de entrenamiento\n",
        "for _ in range(100):\n",
        "    # Vamos a entrenarlo varias veces sobre los mismos datos\n",
        "    # para que los 'pesos' converjan\n",
        "    for person in input_data:\n",
        "        output = person[-1]\n",
        "        inp = [1] + person[0:-1] # Agregamos un uno por default\n",
        "        weights.append(pr._w)\n",
        "        err = pr.train(inp,output)\n",
        "        errors.append(err)\n",
        "\n",
        "h = float(input(\"Introduce tu estatura en centimetros.- \"))\n",
        "w = float(input(\"Introduce tu peso en kilogramos.- \"))\n",
        "c = float(input(\"Introduce tu color donde 1: Azul, 2:Rosa,3: Blanco.- \"))\n",
        "if pr.predict([1,h,w,c]) == 1: print (\"Mujer\")\n",
        "\n",
        "else: print (\"Hombre\")\n",
        "\n",
        "\n",
        "## Fase de graficacion\n",
        "import imp\n",
        "\n",
        "can_plot = True\n",
        "try:\n",
        "    imp.find_module('matplotlib')\n",
        "except:\n",
        "    can_plot = False\n",
        "\n",
        "if not can_plot:\n",
        "    print (\"No es posible graficar los resultados porque no tienes matplotlib\")\n",
        "    sys.exit(0)\n",
        "    pass\n",
        "\n",
        "import matplotlib.pyplot as plt\n",
        "\n",
        "plt.plot(errors)\n",
        "plt.show()"
      ],
      "execution_count": 0,
      "outputs": [
        {
          "output_type": "stream",
          "text": [
            "Introduce tu estatura en centimetros.- 160\n",
            "Introduce tu peso en kilogramos.- 55\n",
            "Introduce tu color donde 1: Azul, 2:Rosa,3: Blanco.- 3\n",
            "Mujer\n"
          ],
          "name": "stdout"
        },
        {
          "output_type": "display_data",
          "data": {
            "image/png": "[encoded data removed]",
            "text/plain": [
              "<Figure size 432x288 with 1 Axes>"
            ]
          },
          "metadata": {
            "tags": []
          }
        }
      ]
    },
    {
      "cell_type": "code",
      "metadata": {
        "colab_type": "code",
        "id": "AH_3FV79lxFu",
        "colab": {}
      },
      "source": [
        ""
      ],
      "execution_count": 0,
      "outputs": []
    }
  ]
}